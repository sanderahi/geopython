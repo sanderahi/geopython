{
 "cells": [
  {
   "cell_type": "code",
   "execution_count": 3,
   "metadata": {},
   "outputs": [
    {
     "name": "stdout",
     "output_type": "stream",
     "text": [
      "POINT (3 5)\n",
      "POINT (5 1)\n",
      "POINT (6 9)\n"
     ]
    }
   ],
   "source": [
    "#Problem 1\n",
    "\n",
    "from shapely.geometry import Point, LineString, Polygon\n",
    "\n",
    "def createPointGeom(x_coord, y_coord):\n",
    "    return Point(x_coord, y_coord)\n",
    "\n",
    "point1=createPointGeom(3,5)\n",
    "point2=createPointGeom(5,1)\n",
    "point3=createPointGeom(6,9)\n",
    "\n",
    "print(point1)\n",
    "print(point2)\n",
    "print(point3)"
   ]
  },
  {
   "cell_type": "code",
   "execution_count": 2,
   "metadata": {},
   "outputs": [
    {
     "name": "stdout",
     "output_type": "stream",
     "text": [
      "LINESTRING (3 5, 5 1, 6 9)\n",
      "warning, is not points\n",
      "LINESTRING (2.2 4.2, 7.2 -25.1, 9.26 -2.456)\n"
     ]
    }
   ],
   "source": [
    "def createLineGeom(points):\n",
    "        if isinstance(points[0], Point):\n",
    "             return LineString(points)\n",
    "        else:\n",
    "            print(\"warning, is not points\")\n",
    "            \n",
    "            return LineString(points)\n",
    "            \n",
    "line1=createLineGeom([point1, point2, point3])\n",
    "\n",
    "print(line1)\n",
    "\n",
    "line2=createLineGeom([(2.2, 4.2), (7.2, -25.1), (9.26, -2.456)])\n",
    "\n",
    "print(line2)"
   ]
  },
  {
   "cell_type": "code",
   "execution_count": 7,
   "metadata": {},
   "outputs": [
    {
     "name": "stdout",
     "output_type": "stream",
     "text": [
      "POLYGON ((2.2 4.2, 7.2 -25.1, 9.26 -2.456, 2.2 4.2))\n",
      "POLYGON ((3 5, 5 1, 6 9, 3 5))\n"
     ]
    }
   ],
   "source": [
    "def createPolyGeom(points):\n",
    "    if isinstance(points[0], Point):\n",
    "        return Polygon([[p.x, p.y] for p in points])\n",
    "    else:\n",
    "        return Polygon(points)\n",
    "\n",
    "poly1=createPolyGeom([(2.2, 4.2), (7.2, -25.1), (9.26, -2.456)])\n",
    "print(poly1)\n",
    "\n",
    "poly2=createPolyGeom([point1, point2, point3])\n",
    "print(poly2)\n",
    "    "
   ]
  },
  {
   "cell_type": "code",
   "execution_count": 10,
   "metadata": {},
   "outputs": [
    {
     "name": "stdout",
     "output_type": "stream",
     "text": [
      "POINT (6.229961354035622 -11.89241115757239)\n",
      "POINT (6.22 -7.785333333333334)\n"
     ]
    }
   ],
   "source": [
    "#Problem 2\n",
    "\n",
    "def getCentroid(shapely_object):\n",
    "    return shapely_object.centroid\n",
    "\n",
    "print(getCentroid(line2))\n",
    "print(getCentroid(poly1))"
   ]
  },
  {
   "cell_type": "code",
   "execution_count": 11,
   "metadata": {},
   "outputs": [
    {
     "name": "stdout",
     "output_type": "stream",
     "text": [
      "86.78900000000002\n"
     ]
    }
   ],
   "source": [
    "def getArea(shapely_object):\n",
    "    return shapely_object.area\n",
    "\n",
    "print(getArea(poly1))"
   ]
  },
  {
   "cell_type": "code",
   "execution_count": 13,
   "metadata": {},
   "outputs": [
    {
     "name": "stdout",
     "output_type": "stream",
     "text": [
      "Error: LineString or Polygon geometries required!\n",
      "None\n"
     ]
    }
   ],
   "source": [
    "def getLength(shapely_object):\n",
    "    if isinstance(shapely_object, LineString):\n",
    "        return shapely_object.length\n",
    "    elif isinstance(shapely_object, Polygon):\n",
    "        return shapely_object.exterior.length\n",
    "    else:\n",
    "        return print(\"Error: LineString or Polygon geometries required!\")\n",
    "\n",
    "print(getLength(10))\n"
   ]
  },
  {
   "cell_type": "code",
   "execution_count": 4,
   "metadata": {},
   "outputs": [
    {
     "name": "stdout",
     "output_type": "stream",
     "text": [
      "   from_id    to_id      fromid_toid  route_number     at     from_x  \\\n",
      "0  5861326  5785640  5861326_5785640             1  08:10  24.970438   \n",
      "1  5861326  5785641  5861326_5785641             1  08:10  24.970438   \n",
      "2  5861326  5785642  5861326_5785642             1  08:10  24.970438   \n",
      "3  5861326  5785643  5861326_5785643             1  08:10  24.970438   \n",
      "4  5861326  5787544  5861326_5787544             1  08:10  24.970438   \n",
      "\n",
      "      from_y       to_x       to_y  total_route_time  route_time  \\\n",
      "0  60.311917  24.856034  60.399941             125.0        99.0   \n",
      "1  60.311917  24.860568  60.400014             123.0       102.0   \n",
      "2  60.311917  24.865102  60.400086             125.0       103.0   \n",
      "3  60.311917  24.869636  60.400159             129.0       107.0   \n",
      "4  60.311917  24.842582  60.397478             118.0        92.0   \n",
      "\n",
      "   route_distance  route_total_lines  \n",
      "0         22917.6                2.0  \n",
      "1         23123.5                2.0  \n",
      "2         23241.3                2.0  \n",
      "3         23534.2                2.0  \n",
      "4         22428.2                2.0  \n",
      "   from_id    to_id      fromid_toid  route_number     at     from_x  \\\n",
      "0  5861326  5785640  5861326_5785640             1  08:10  24.970438   \n",
      "1  5861326  5785641  5861326_5785641             1  08:10  24.970438   \n",
      "2  5861326  5785642  5861326_5785642             1  08:10  24.970438   \n",
      "3  5861326  5785643  5861326_5785643             1  08:10  24.970438   \n",
      "4  5861326  5787544  5861326_5787544             1  08:10  24.970438   \n",
      "\n",
      "      from_y       to_x       to_y  total_route_time  route_time  \\\n",
      "0  60.311917  24.856034  60.399941             125.0        99.0   \n",
      "1  60.311917  24.860568  60.400014             123.0       102.0   \n",
      "2  60.311917  24.865102  60.400086             125.0       103.0   \n",
      "3  60.311917  24.869636  60.400159             129.0       107.0   \n",
      "4  60.311917  24.842582  60.397478             118.0        92.0   \n",
      "\n",
      "   route_distance  route_total_lines                    orig_points  \\\n",
      "0         22917.6                2.0  POINT (24.9704379 60.3119173)   \n",
      "1         23123.5                2.0  POINT (24.9704379 60.3119173)   \n",
      "2         23241.3                2.0  POINT (24.9704379 60.3119173)   \n",
      "3         23534.2                2.0  POINT (24.9704379 60.3119173)   \n",
      "4         22428.2                2.0  POINT (24.9704379 60.3119173)   \n",
      "\n",
      "                            dest_points  \n",
      "0         POINT (24.8560344 60.3999406)  \n",
      "1         POINT (24.8605682 60.4000135)  \n",
      "2          POINT (24.865102 60.4000863)  \n",
      "3         POINT (24.8696358 60.4001589)  \n",
      "4  POINT (24.8425817 60.39747779999999)  \n"
     ]
    }
   ],
   "source": [
    "#Problem 3\n",
    "\n",
    "import pandas as pd\n",
    "\n",
    "df = pd.read_csv(r'travelTimes_2015_Helsinki.txt', sep=';', encoding='latin1')\n",
    "\n",
    "pd.set_option('max_columns',20)\n",
    "\n",
    "print(df.head(5))\n",
    "\n",
    "def orig_point(row):\n",
    "    return Point( row['from_x'], row['from_y'] )\n",
    "\n",
    "def to_point(row):\n",
    "    return Point( row['to_x'], row['to_y'] )\n",
    "\n",
    "df['orig_points']=df.apply(orig_point, axis=1)\n",
    "df['dest_points']=df.apply(to_point, axis=1)\n",
    "\n",
    "print(df.head(5))"
   ]
  },
  {
   "cell_type": "code",
   "execution_count": 6,
   "metadata": {},
   "outputs": [
    {
     "name": "stdout",
     "output_type": "stream",
     "text": [
      "   from_id    to_id      fromid_toid  route_number     at     from_x  \\\n",
      "0  5861326  5785640  5861326_5785640             1  08:10  24.970438   \n",
      "1  5861326  5785641  5861326_5785641             1  08:10  24.970438   \n",
      "2  5861326  5785642  5861326_5785642             1  08:10  24.970438   \n",
      "3  5861326  5785643  5861326_5785643             1  08:10  24.970438   \n",
      "4  5861326  5787544  5861326_5787544             1  08:10  24.970438   \n",
      "\n",
      "      from_y       to_x       to_y  total_route_time  route_time  \\\n",
      "0  60.311917  24.856034  60.399941             125.0        99.0   \n",
      "1  60.311917  24.860568  60.400014             123.0       102.0   \n",
      "2  60.311917  24.865102  60.400086             125.0       103.0   \n",
      "3  60.311917  24.869636  60.400159             129.0       107.0   \n",
      "4  60.311917  24.842582  60.397478             118.0        92.0   \n",
      "\n",
      "   route_distance  route_total_lines                    orig_points  \\\n",
      "0         22917.6                2.0  POINT (24.9704379 60.3119173)   \n",
      "1         23123.5                2.0  POINT (24.9704379 60.3119173)   \n",
      "2         23241.3                2.0  POINT (24.9704379 60.3119173)   \n",
      "3         23534.2                2.0  POINT (24.9704379 60.3119173)   \n",
      "4         22428.2                2.0  POINT (24.9704379 60.3119173)   \n",
      "\n",
      "                            dest_points  \\\n",
      "0         POINT (24.8560344 60.3999406)   \n",
      "1         POINT (24.8605682 60.4000135)   \n",
      "2          POINT (24.865102 60.4000863)   \n",
      "3         POINT (24.8696358 60.4001589)   \n",
      "4  POINT (24.8425817 60.39747779999999)   \n",
      "\n",
      "                                               lines  distance  \n",
      "0  LINESTRING (24.9704379 60.3119173, 24.8560344 ...  0.144348  \n",
      "1  LINESTRING (24.9704379 60.3119173, 24.8605682 ...  0.140827  \n",
      "2  LINESTRING (24.9704379 60.3119173, 24.865102 6...  0.137366  \n",
      "3  LINESTRING (24.9704379 60.3119173, 24.8696358 ...  0.133969  \n",
      "4  LINESTRING (24.9704379 60.3119173, 24.8425817 ...  0.153843  \n",
      "   from_id    to_id      fromid_toid  route_number     at     from_x  \\\n",
      "0  5861326  5785640  5861326_5785640             1  08:10  24.970438   \n",
      "1  5861326  5785641  5861326_5785641             1  08:10  24.970438   \n",
      "2  5861326  5785642  5861326_5785642             1  08:10  24.970438   \n",
      "3  5861326  5785643  5861326_5785643             1  08:10  24.970438   \n",
      "4  5861326  5787544  5861326_5787544             1  08:10  24.970438   \n",
      "\n",
      "      from_y       to_x       to_y  total_route_time  route_time  \\\n",
      "0  60.311917  24.856034  60.399941             125.0        99.0   \n",
      "1  60.311917  24.860568  60.400014             123.0       102.0   \n",
      "2  60.311917  24.865102  60.400086             125.0       103.0   \n",
      "3  60.311917  24.869636  60.400159             129.0       107.0   \n",
      "4  60.311917  24.842582  60.397478             118.0        92.0   \n",
      "\n",
      "   route_distance  route_total_lines                    orig_points  \\\n",
      "0         22917.6                2.0  POINT (24.9704379 60.3119173)   \n",
      "1         23123.5                2.0  POINT (24.9704379 60.3119173)   \n",
      "2         23241.3                2.0  POINT (24.9704379 60.3119173)   \n",
      "3         23534.2                2.0  POINT (24.9704379 60.3119173)   \n",
      "4         22428.2                2.0  POINT (24.9704379 60.3119173)   \n",
      "\n",
      "                            dest_points  \\\n",
      "0         POINT (24.8560344 60.3999406)   \n",
      "1         POINT (24.8605682 60.4000135)   \n",
      "2          POINT (24.865102 60.4000863)   \n",
      "3         POINT (24.8696358 60.4001589)   \n",
      "4  POINT (24.8425817 60.39747779999999)   \n",
      "\n",
      "                                               lines  distance  \n",
      "0  LINESTRING (24.9704379 60.3119173, 24.8560344 ...  0.144348  \n",
      "1  LINESTRING (24.9704379 60.3119173, 24.8605682 ...  0.140827  \n",
      "2  LINESTRING (24.9704379 60.3119173, 24.865102 6...  0.137366  \n",
      "3  LINESTRING (24.9704379 60.3119173, 24.8696358 ...  0.133969  \n",
      "4  LINESTRING (24.9704379 60.3119173, 24.8425817 ...  0.153843  \n",
      "0.2150222482322721\n"
     ]
    }
   ],
   "source": [
    "#Problem 4\n",
    "\n",
    "def makeLine(row):\n",
    "    return LineString([row['orig_points'], row['dest_points']])\n",
    "\n",
    "df['lines']=df.apply(makeLine, axis=1)\n",
    "\n",
    "print(df.head(5))\n",
    "#not 100% sure how to find the average distance. Maybe with for cycle. So that with every step the length of a line is added to the sum variable or sth.\n",
    "#At the end sum is divided by the row count. I am not sure how to do this exactly.\n",
    "def distance(row):\n",
    "    return row['lines'].length\n",
    "\n",
    "df['distance']=df.apply(distance, axis=1)\n",
    "\n",
    "print(df.head(5))\n",
    "##def average():\n",
    "#    return sum/row_count\n",
    "print(df['distance'].mean())"
   ]
  },
  {
   "cell_type": "code",
   "execution_count": null,
   "metadata": {},
   "outputs": [],
   "source": []
  }
 ],
 "metadata": {
  "kernelspec": {
   "display_name": "Python 3",
   "language": "python",
   "name": "python3"
  },
  "language_info": {
   "codemirror_mode": {
    "name": "ipython",
    "version": 3
   },
   "file_extension": ".py",
   "mimetype": "text/x-python",
   "name": "python",
   "nbconvert_exporter": "python",
   "pygments_lexer": "ipython3",
   "version": "3.6.6"
  }
 },
 "nbformat": 4,
 "nbformat_minor": 2
}
