{
 "cells": [
  {
   "cell_type": "code",
   "execution_count": 4,
   "metadata": {},
   "outputs": [
    {
     "name": "stdout",
     "output_type": "stream",
     "text": [
      "POINT (3 5)\n",
      "POINT (5 1)\n",
      "POINT (6 9)\n"
     ]
    }
   ],
   "source": [
    "#Problem 1\n",
    "\n",
    "from shapely.geometry import Point, LineString, Polygon\n",
    "\n",
    "def createPointGeom(x_coord, y_coord):\n",
    "    return Point(x_coord, y_coord)\n",
    "\n",
    "point1=createPointGeom(3,5)\n",
    "point2=createPointGeom(5,1)\n",
    "point3=createPointGeom(6,9)\n",
    "\n",
    "print(point1)\n",
    "print(point2)\n",
    "print(point3)"
   ]
  },
  {
   "cell_type": "code",
   "execution_count": 16,
   "metadata": {},
   "outputs": [
    {
     "name": "stdout",
     "output_type": "stream",
     "text": [
      "LINESTRING (3 5, 5 1, 6 9)\n",
      "warning, is not points\n",
      "LINESTRING (2.2 4.2, 7.2 -25.1, 9.26 -2.456)\n"
     ]
    }
   ],
   "source": [
    "def createLineGeom(points):\n",
    "        if isinstance(points[0], Point):\n",
    "             return LineString(points)\n",
    "        else:\n",
    "            print(\"warning, is not points\")\n",
    "            \n",
    "            return LineString(points)\n",
    "            \n",
    "line1=createLineGeom([point1, point2, point3])\n",
    "\n",
    "print(line1)\n",
    "\n",
    "line2=createLineGeom([(2.2, 4.2), (7.2, -25.1), (9.26, -2.456)])\n",
    "\n",
    "print(line2)"
   ]
  },
  {
   "cell_type": "code",
   "execution_count": null,
   "metadata": {},
   "outputs": [],
   "source": []
  }
 ],
 "metadata": {
  "kernelspec": {
   "display_name": "Python 3",
   "language": "python",
   "name": "python3"
  },
  "language_info": {
   "codemirror_mode": {
    "name": "ipython",
    "version": 3
   },
   "file_extension": ".py",
   "mimetype": "text/x-python",
   "name": "python",
   "nbconvert_exporter": "python",
   "pygments_lexer": "ipython3",
   "version": "3.6.6"
  }
 },
 "nbformat": 4,
 "nbformat_minor": 2
}
